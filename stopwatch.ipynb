{
 "cells": [
  {
   "cell_type": "code",
   "execution_count": 10,
   "metadata": {},
   "outputs": [
    {
     "name": "stdout",
     "output_type": "stream",
     "text": [
      "Running on local URL:  http://127.0.0.1:7865\n",
      "\n",
      "To create a public link, set `share=True` in `launch()`.\n"
     ]
    },
    {
     "data": {
      "text/html": [
       "<div><iframe src=\"http://127.0.0.1:7865/\" width=\"100%\" height=\"500\" allow=\"autoplay; camera; microphone; clipboard-read; clipboard-write;\" frameborder=\"0\" allowfullscreen></iframe></div>"
      ],
      "text/plain": [
       "<IPython.core.display.HTML object>"
      ]
     },
     "metadata": {},
     "output_type": "display_data"
    },
    {
     "data": {
      "text/plain": []
     },
     "execution_count": 10,
     "metadata": {},
     "output_type": "execute_result"
    },
    {
     "name": "stderr",
     "output_type": "stream",
     "text": [
      "Exception in thread Thread-40 (run_keyboard_listener):\n",
      "Traceback (most recent call last):\n",
      "  File \"c:\\ProgramData\\Anaconda3\\envs\\llm\\lib\\threading.py\", line 1016, in _bootstrap_inner\n",
      "    self.run()\n",
      "  File \"c:\\ProgramData\\Anaconda3\\envs\\llm\\lib\\threading.py\", line 953, in run\n",
      "    self._target(*self._args, **self._kwargs)\n",
      "  File \"C:\\Users\\devin\\AppData\\Local\\Temp\\ipykernel_34144\\3982811398.py\", line 41, in run_keyboard_listener\n",
      "AttributeError: 'Blocks' object has no attribute 'set_event_data'\n"
     ]
    }
   ],
   "source": [
    "import gradio as gr\n",
    "import time\n",
    "from threading import Thread\n",
    "import keyboard\n",
    "\n",
    "class Stopwatch:\n",
    "    def __init__(self):\n",
    "        self.start_time = None\n",
    "        self.running = False\n",
    "        self.history = []\n",
    "\n",
    "    def start_stop(self):\n",
    "        if not self.running:\n",
    "            self.start_time = time.time()\n",
    "            self.running = True\n",
    "            return \"Stopwatch started!\"\n",
    "        else:\n",
    "            elapsed_time = time.time() - self.start_time\n",
    "            self.running = False\n",
    "            self.history.append(f\"{elapsed_time:.2f}\")\n",
    "            return f\"Stopwatch stopped! Elapsed time: {elapsed_time:.2f} seconds\"\n",
    "\n",
    "    def reset(self):\n",
    "        self.start_time = None\n",
    "        self.running = False\n",
    "        self.history = []\n",
    "        return \"Stopwatch reset!\"\n",
    "\n",
    "stopwatch = Stopwatch()\n",
    "\n",
    "def toggle_stopwatch():\n",
    "    return stopwatch.start_stop(), stopwatch.history\n",
    "\n",
    "def reset_stopwatch():\n",
    "    return stopwatch.reset(), stopwatch.history\n",
    "\n",
    "def run_keyboard_listener():\n",
    "    while True:\n",
    "        if keyboard.is_pressed('space'):\n",
    "            output, history = toggle_stopwatch()\n",
    "            demo.set_event_data(outputs=[output, history])\n",
    "            time.sleep(0.2)  # 防止重复触发\n",
    "\n",
    "keyboard_listener_thread = Thread(target=run_keyboard_listener)\n",
    "keyboard_listener_thread.daemon = True\n",
    "keyboard_listener_thread.start()\n",
    "\n",
    "with gr.Blocks() as demo:\n",
    "    toggle_button = gr.Button(\"Start/Stop (Space)\")\n",
    "    reset_button = gr.Button(\"Reset\")\n",
    "    output = gr.Textbox()\n",
    "    history = gr.Textbox(lines=10, placeholder=\"History\")\n",
    "\n",
    "    toggle_button.click(toggle_stopwatch, outputs=[output, history])\n",
    "    reset_button.click(reset_stopwatch, outputs=[output, history])\n",
    "\n",
    "demo.launch()\n"
   ]
  }
 ],
 "metadata": {
  "kernelspec": {
   "display_name": "base",
   "language": "python",
   "name": "python3"
  },
  "language_info": {
   "codemirror_mode": {
    "name": "ipython",
    "version": 3
   },
   "file_extension": ".py",
   "mimetype": "text/x-python",
   "name": "python",
   "nbconvert_exporter": "python",
   "pygments_lexer": "ipython3",
   "version": "3.10.14"
  }
 },
 "nbformat": 4,
 "nbformat_minor": 2
}
